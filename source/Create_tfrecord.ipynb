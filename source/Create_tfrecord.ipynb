{
  "nbformat": 4,
  "nbformat_minor": 0,
  "metadata": {
    "colab": {
      "name": "Create tfrecord.ipynb",
      "provenance": [],
      "private_outputs": true,
      "collapsed_sections": []
    },
    "kernelspec": {
      "name": "python3",
      "display_name": "Python 3"
    },
    "accelerator": "TPU"
  },
  "cells": [
    {
      "cell_type": "code",
      "metadata": {
        "id": "9Ti352zjvlNO",
        "colab_type": "code",
        "colab": {}
      },
      "source": [
        "\n",
        "from __future__ import absolute_import, division, print_function\n",
        "from tqdm import tqdm\n",
        "from numpy.random import randn\n",
        "\n",
        "import pathlib\n",
        "import random\n",
        "import matplotlib.pyplot as plt\n",
        "\n",
        "import tensorflow as tf\n",
        "import numpy as np\n",
        "\n",
        "from matplotlib.image import imread\n"
      ],
      "execution_count": 0,
      "outputs": []
    },
    {
      "cell_type": "code",
      "metadata": {
        "id": "pzvhbUgEv0jt",
        "colab_type": "code",
        "colab": {}
      },
      "source": [
        "tf.enable_eager_execution()"
      ],
      "execution_count": 0,
      "outputs": []
    },
    {
      "cell_type": "code",
      "metadata": {
        "id": "wdJHV3xBv_kO",
        "colab_type": "code",
        "colab": {}
      },
      "source": [
        "AUTOTUNE = tf.data.experimental.AUTOTUNE"
      ],
      "execution_count": 0,
      "outputs": []
    },
    {
      "cell_type": "code",
      "metadata": {
        "id": "pGH5irr6wGlw",
        "colab_type": "code",
        "colab": {}
      },
      "source": [
        "\n",
        "data_dir = tf.keras.utils.get_file('flower_photos','https://storage.googleapis.com/download.tensorflow.org/example_images/flower_photos.tgz', untar=True)\n",
        "data_dir = pathlib.Path(data_dir)"
      ],
      "execution_count": 0,
      "outputs": []
    },
    {
      "cell_type": "code",
      "metadata": {
        "id": "xgeRdwDCwJEM",
        "colab_type": "code",
        "colab": {}
      },
      "source": [
        "\n",
        "all_images = list(data_dir.glob('*/*'))\n",
        "all_images = [str(path) for path in all_images]\n",
        "random.shuffle(all_images)\n",
        "\n",
        "image_count = len(all_images)"
      ],
      "execution_count": 0,
      "outputs": []
    },
    {
      "cell_type": "code",
      "metadata": {
        "id": "riVYr4j0fG3X",
        "colab_type": "code",
        "colab": {}
      },
      "source": [
        "all_images[2]"
      ],
      "execution_count": 0,
      "outputs": []
    },
    {
      "cell_type": "code",
      "metadata": {
        "colab_type": "code",
        "id": "C13NU1T2qZ1a",
        "colab": {}
      },
      "source": [
        "import IPython.display as display\n",
        "\n",
        "for n in tqdm(all_images[:4]):\n",
        "  image_path = random.choice(all_images)\n",
        "  display.display(display.Image(image_path))\n",
        "  print()"
      ],
      "execution_count": 0,
      "outputs": []
    },
    {
      "cell_type": "code",
      "metadata": {
        "id": "8ArB9bWIxYcf",
        "colab_type": "code",
        "colab": {}
      },
      "source": [
        "label_names={'daisy': 0, 'dandelion': 1, 'roses': 2, 'sunflowers': 3, 'tulips': 4}\n"
      ],
      "execution_count": 0,
      "outputs": []
    },
    {
      "cell_type": "code",
      "metadata": {
        "id": "hCIhJCYiyk_w",
        "colab_type": "code",
        "colab": {}
      },
      "source": [
        "def _process_image(path):\n",
        "\n",
        "  image = open(path, 'rb').read()\n",
        "  \n",
        "  text=pathlib.Path(filename).parent.name\n",
        "  label=label_names[text]\n",
        " \n",
        "  return image,text,label"
      ],
      "execution_count": 0,
      "outputs": []
    },
    {
      "cell_type": "code",
      "metadata": {
        "id": "b998pW42KA_7",
        "colab_type": "code",
        "colab": {}
      },
      "source": [
        "def _int64_feature(value):\n",
        "  \"\"\"Wrapper for inserting int64 features into Example proto.\"\"\"\n",
        "  if not isinstance(value, list):\n",
        "    value = [value]\n",
        "  return tf.train.Feature(int64_list=tf.train.Int64List(value=value))\n",
        "\n",
        "\n",
        "def _bytes_feature(value):\n",
        "  \"\"\"Wrapper for inserting bytes features into Example proto.\"\"\"\n",
        "  return tf.train.Feature(bytes_list=tf.train.BytesList(value=[value]))\n"
      ],
      "execution_count": 0,
      "outputs": []
    },
    {
      "cell_type": "code",
      "metadata": {
        "id": "n73c1_6eePrn",
        "colab_type": "code",
        "colab": {}
      },
      "source": [
        "def _convert_to_example(image_buffer, label, text):\n",
        "  \n",
        "  example = tf.train.Example(features=tf.train.Features(feature={\n",
        "      'label': _int64_feature(label),\n",
        "      'text':  _bytes_feature(tf.compat.as_bytes(text)),\n",
        "      'encoded': _bytes_feature(tf.compat.as_bytes(image_buffer))}))\n",
        "  return example"
      ],
      "execution_count": 0,
      "outputs": []
    },
    {
      "cell_type": "code",
      "metadata": {
        "id": "BB9KU5LZfbsn",
        "colab_type": "code",
        "colab": {}
      },
      "source": [
        "with tf.python_io.TFRecordWriter('flower.tfrecords') as writer:\n",
        "  for filename in tqdm(all_images):\n",
        "    image_buffer,text,label = _process_image(filename)\n",
        "    example = _convert_to_example(image_buffer, label,text)\n",
        "    writer.write(example.SerializeToString())"
      ],
      "execution_count": 0,
      "outputs": []
    },
    {
      "cell_type": "markdown",
      "metadata": {
        "id": "_PA5Z-RM2BNa",
        "colab_type": "text"
      },
      "source": [
        ""
      ]
    },
    {
      "cell_type": "code",
      "metadata": {
        "id": "7Hyqg2lvhPLG",
        "colab_type": "code",
        "colab": {}
      },
      "source": [
        "ls -l --block-size=M"
      ],
      "execution_count": 0,
      "outputs": []
    },
    {
      "cell_type": "code",
      "metadata": {
        "id": "Cp79nTX2iY0O",
        "colab_type": "code",
        "colab": {}
      },
      "source": [
        "image_dataset = tf.data.TFRecordDataset('flower.tfrecords')\n",
        "\n",
        "IMG_SIZE=224\n",
        "# Create a dictionary describing the features.  \n",
        "image_feature_description = {\n",
        "    'label': tf.FixedLenFeature([], tf.int64),\n",
        "    'text': tf.FixedLenFeature([], tf.string),  \n",
        "    'encoded': tf.FixedLenFeature([], tf.string),\n",
        "}\n",
        "\n",
        "def _parse_image_function(example_proto):\n",
        "  # Parse the input tf.Example proto using the dictionary above.\n",
        "  feature=tf.parse_single_example(example_proto, image_feature_description)\n",
        "  \n",
        "  image=feature['encoded']\n",
        "  image = tf.image.decode_jpeg(image, channels=3)\n",
        "#   image = tf.image.resize_images(image, [224, 224])\n",
        "#   image /= 255.0  # normalize to [0,1] range\n",
        "  \n",
        "  image = tf.cast(image, tf.float32)\n",
        "  image = (image/127.5) - 1\n",
        "  image = tf.image.resize(image, (IMG_SIZE, IMG_SIZE))\n",
        "  \n",
        "  return image,feature['label']\n",
        "\n",
        "dataset = image_dataset.map(_parse_image_function)\n",
        "\n",
        "BATCH_SIZE = 32\n",
        "\n",
        "ds = dataset.apply(tf.data.experimental.shuffle_and_repeat(buffer_size=image_count))\n",
        "ds = dataset.shuffle(buffer_size=image_count)\n",
        "ds = ds.repeat()\n",
        "ds = ds.batch(BATCH_SIZE)\n",
        "ds = ds.prefetch(buffer_size=AUTOTUNE)\n"
      ],
      "execution_count": 0,
      "outputs": []
    },
    {
      "cell_type": "code",
      "metadata": {
        "id": "9BXHhZ-zkdzm",
        "colab_type": "code",
        "colab": {}
      },
      "source": [
        ""
      ],
      "execution_count": 0,
      "outputs": []
    },
    {
      "cell_type": "code",
      "metadata": {
        "id": "qsZCpcWYrpBS",
        "colab_type": "code",
        "colab": {}
      },
      "source": [
        "for image,label,text in ds.take(1):\n",
        "  plt.title(text.numpy())\n",
        "  plt.imshow(image)"
      ],
      "execution_count": 0,
      "outputs": []
    },
    {
      "cell_type": "code",
      "metadata": {
        "id": "Dyap3Etkl0B6",
        "colab_type": "code",
        "colab": {}
      },
      "source": [
        "IMG_SHAPE = (IMG_SIZE, IMG_SIZE, 3)\n",
        "VGG16_MODEL=tf.keras.applications.vgg16.VGG16(input_shape=IMG_SHAPE,\n",
        "                                               include_top=False,\n",
        "                                               weights='imagenet')\n"
      ],
      "execution_count": 0,
      "outputs": []
    },
    {
      "cell_type": "code",
      "metadata": {
        "id": "zuKMHsq8mHEk",
        "colab_type": "code",
        "colab": {}
      },
      "source": [
        "VGG16_MODEL.trainable=False\n",
        "global_average_layer = tf.keras.layers.GlobalAveragePooling2D()\n",
        "prediction_layer = tf.keras.layers.Dense(len(label_names),activation=tf.nn.softmax)\n",
        "\n",
        "VGG16_MODEL.summary()"
      ],
      "execution_count": 0,
      "outputs": []
    },
    {
      "cell_type": "code",
      "metadata": {
        "id": "Ff61IuLj2fZI",
        "colab_type": "code",
        "colab": {}
      },
      "source": [
        "model = tf.keras.Sequential([\n",
        "  VGG16_MODEL,\n",
        "  global_average_layer,\n",
        "  prediction_layer\n",
        "])"
      ],
      "execution_count": 0,
      "outputs": []
    },
    {
      "cell_type": "code",
      "metadata": {
        "id": "iiBFX8FW5VRX",
        "colab_type": "code",
        "colab": {}
      },
      "source": [
        "base_learning_rate = 0.0001\n",
        "model.compile(optimizer=tf.keras.optimizers.RMSprop(lr=base_learning_rate),\n",
        "              loss='sparse_categorical_crossentropy',\n",
        "              metrics=['accuracy'])\n",
        "\n",
        "model.summary()"
      ],
      "execution_count": 0,
      "outputs": []
    },
    {
      "cell_type": "code",
      "metadata": {
        "id": "HK9GImtB5_eG",
        "colab_type": "code",
        "colab": {}
      },
      "source": [
        "history = model.fit(ds,\n",
        "                    steps_per_epoch=5,\n",
        "                    epochs=20)"
      ],
      "execution_count": 0,
      "outputs": []
    },
    {
      "cell_type": "markdown",
      "metadata": {
        "id": "mdmL6r3YIM9V",
        "colab_type": "text"
      },
      "source": [
        ""
      ]
    }
  ]
}