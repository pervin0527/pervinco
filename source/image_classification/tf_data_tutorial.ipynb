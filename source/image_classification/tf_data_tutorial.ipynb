{
 "cells": [
  {
   "cell_type": "code",
   "execution_count": 1,
   "metadata": {
    "colab": {
     "base_uri": "https://localhost:8080/",
     "height": 51
    },
    "colab_type": "code",
    "id": "PusTtnQYe3jg",
    "outputId": "4006355c-bf79-4aab-fd7c-99177eba909a"
   },
   "outputs": [],
   "source": [
    "import tensorflow as tf\n",
    "from tensorflow import keras\n",
    "import pathlib\n",
    "import random\n",
    "import time\n",
    "from efficientnet.tfkeras import preprocess_input\n",
    "\n",
    "AUTOTUNE = tf.data.experimental.AUTOTUNE\n",
    "gpus = tf.config.experimental.list_physical_devices('GPU')\n",
    "if gpus:\n",
    "    try:\n",
    "        tf.config.experimental.set_memory_growth(gpus[0], True)\n",
    "    except RuntimeError as e:\n",
    "        print(e)\n",
    "\n",
    "data_root = keras.utils.get_file(origin='https://storage.googleapis.com/download.tensorflow.org/example_images/flower_photos.tgz',\n",
    "                                 fname='flower_photos', untar=True)\n",
    "data_root = pathlib.Path(data_root)"
   ]
  },
  {
   "cell_type": "code",
   "execution_count": 2,
   "metadata": {
    "colab": {
     "base_uri": "https://localhost:8080/",
     "height": 85
    },
    "colab_type": "code",
    "id": "wd4iBV_-e60p",
    "outputId": "654ce6aa-8d48-4676-dad8-51d637ee4d49"
   },
   "outputs": [
    {
     "name": "stdout",
     "output_type": "stream",
     "text": [
      "3670\n",
      "['daisy', 'dandelion', 'roses', 'sunflowers', 'tulips']\n",
      "{'daisy': 0, 'dandelion': 1, 'roses': 2, 'sunflowers': 3, 'tulips': 4}\n",
      "3670\n"
     ]
    }
   ],
   "source": [
    "all_image_paths = list(data_root.glob('*/*'))\n",
    "all_image_paths = [str(path) for path in all_image_paths]\n",
    "# print(all_image_paths)\n",
    "random.shuffle(all_image_paths)\n",
    "image_count = len(all_image_paths)\n",
    "print(image_count)\n",
    "\n",
    "label_names = sorted(item.name for item in data_root.glob('*/') if item.is_dir())\n",
    "print(label_names)\n",
    "label_to_index = dict((name, index) for index, name in enumerate(label_names))\n",
    "print(label_to_index)\n",
    "\n",
    "all_image_labels = [label_to_index[pathlib.Path(path).parent.name] for path in all_image_paths]\n",
    "print(len(all_image_labels))\n",
    "\n",
    "BATCH_SIZE = 32\n",
    "STEP_PER_EPOCH = tf.math.ceil(len(all_image_paths) / BATCH_SIZE).numpy()"
   ]
  },
  {
   "cell_type": "code",
   "execution_count": 8,
   "metadata": {
    "colab": {},
    "colab_type": "code",
    "id": "agpbkQSWe9oF"
   },
   "outputs": [],
   "source": [
    "def preprocess_image(image):\n",
    "    image = tf.image.decode_jpeg(image, channels=3)\n",
    "    #image = tf.cast(image, tf.float32) / 255.0\n",
    "    image = tf.image.resize(image, [224, 224])\n",
    "    #image = preprocess_input(image)\n",
    "\n",
    "    return image\n",
    "\n",
    "def load_and_preprocess_image(path):\n",
    "    image = tf.io.read_file(path)\n",
    "    return preprocess_image(image)"
   ]
  },
  {
   "cell_type": "code",
   "execution_count": 9,
   "metadata": {
    "colab": {
     "base_uri": "https://localhost:8080/",
     "height": 68
    },
    "colab_type": "code",
    "id": "2AclSDOrfR1T",
    "outputId": "61a1f504-073e-4ca6-9f48-e8f7a3795997"
   },
   "outputs": [
    {
     "name": "stdout",
     "output_type": "stream",
     "text": [
      "tf.Tensor(b'/home/barcelona/.keras/datasets/flower_photos/sunflowers/5970300143_36b42437de_n.jpg', shape=(), dtype=string)\n"
     ]
    }
   ],
   "source": [
    "path_ds = tf.data.Dataset.from_tensor_slices(all_image_paths)\n",
    "\n",
    "for i in path_ds.take(1):\n",
    "    print(i)"
   ]
  },
  {
   "cell_type": "code",
   "execution_count": 10,
   "metadata": {
    "colab": {
     "base_uri": "https://localhost:8080/",
     "height": 1000
    },
    "colab_type": "code",
    "id": "OsQinKt6NiLV",
    "outputId": "82f0b371-c91d-48c6-eab5-97cf7d2b89e2"
   },
   "outputs": [
    {
     "name": "stdout",
     "output_type": "stream",
     "text": [
      "tf.Tensor(\n",
      "[[[129.48979    57.34694    26.02551  ]\n",
      "  [144.07909    63.17602    24.545918 ]\n",
      "  [141.69899    60.507652   20.785715 ]\n",
      "  ...\n",
      "  [ 37.92859    13.000017    6.1734533]\n",
      "  [ 41.26021    16.688784    8.581628 ]\n",
      "  [ 40.313732   16.38516     4.834099 ]]\n",
      "\n",
      " [[125.747444   62.581635   30.57908  ]\n",
      "  [138.45409    65.41071    25.594389 ]\n",
      "  [139.52551    63.867344   22.22449  ]\n",
      "  ...\n",
      "  [ 37.93624    15.2576685   9.150526 ]\n",
      "  [ 38.46683    16.107143    7.18111  ]\n",
      "  [ 37.191307   15.405593    4.6198783]]\n",
      "\n",
      " [[128.09439    59.890305   30.068878 ]\n",
      "  [139.57652    63.076527   26.971935 ]\n",
      "  [140.62245    59.288265   19.941324 ]\n",
      "  ...\n",
      "  [ 38.         17.464287   10.642858 ]\n",
      "  [ 37.         16.464287    9.056115 ]\n",
      "  [ 37.28062    16.744905    8.28062  ]]\n",
      "\n",
      " ...\n",
      "\n",
      " [[140.04079   176.19641   124.79845  ]\n",
      "  [145.13773   180.13774   124.90305  ]\n",
      "  [105.43876   145.02039    95.73213  ]\n",
      "  ...\n",
      "  [ 17.155684   44.642868    6.219457 ]\n",
      "  [ 21.721981   57.35723    13.193925 ]\n",
      "  [ 26.428473   77.66851    10.071143 ]]\n",
      "\n",
      " [[139.13521   175.21431   123.16583  ]\n",
      "  [140.68626   170.25261   115.43883  ]\n",
      "  [ 93.729645  131.85721    82.54343  ]\n",
      "  ...\n",
      "  [ 16.148075   50.612278    0.8112688]\n",
      "  [ 28.596962   63.186275   18.474535 ]\n",
      "  [ 35.867294   79.96445    24.280416 ]]\n",
      "\n",
      " [[149.66574   187.25246   136.35196  ]\n",
      "  [140.4107    168.17091   116.00509  ]\n",
      "  [ 95.10711   130.96936    84.785675 ]\n",
      "  ...\n",
      "  [ 25.905714   61.18881    18.66584  ]\n",
      "  [ 24.877651   58.34196    17.969444 ]\n",
      "  [ 31.283096   72.08937    10.642558 ]]], shape=(224, 224, 3), dtype=float32)\n"
     ]
    }
   ],
   "source": [
    "image_ds = path_ds.map(load_and_preprocess_image, num_parallel_calls=AUTOTUNE)\n",
    "\n",
    "for i in image_ds.take(1):\n",
    "    print(i)"
   ]
  },
  {
   "cell_type": "code",
   "execution_count": 11,
   "metadata": {
    "colab": {
     "base_uri": "https://localhost:8080/",
     "height": 68
    },
    "colab_type": "code",
    "id": "th7mK8nvNnMU",
    "outputId": "31e925be-2c06-44ea-e98e-17f0ed9e50b8"
   },
   "outputs": [
    {
     "name": "stdout",
     "output_type": "stream",
     "text": [
      "tf.Tensor(3, shape=(), dtype=int64)\n",
      "tf.Tensor(2, shape=(), dtype=int64)\n",
      "tf.Tensor(4, shape=(), dtype=int64)\n"
     ]
    }
   ],
   "source": [
    "label_ds = tf.data.Dataset.from_tensor_slices(tf.cast(all_image_labels, tf.int64))\n",
    "\n",
    "for i in label_ds.take(3):\n",
    "    print(i)"
   ]
  },
  {
   "cell_type": "code",
   "execution_count": 12,
   "metadata": {
    "colab": {
     "base_uri": "https://localhost:8080/",
     "height": 1000
    },
    "colab_type": "code",
    "id": "Cw2W2k2INtIC",
    "outputId": "ee0c84bd-626f-4a73-b101-a7f71af1e3ff"
   },
   "outputs": [
    {
     "name": "stdout",
     "output_type": "stream",
     "text": [
      "(<tf.Tensor: id=121, shape=(224, 224, 3), dtype=float32, numpy=\n",
      "array([[[129.48979  ,  57.34694  ,  26.02551  ],\n",
      "        [144.07909  ,  63.17602  ,  24.545918 ],\n",
      "        [141.69899  ,  60.507652 ,  20.785715 ],\n",
      "        ...,\n",
      "        [ 37.92859  ,  13.000017 ,   6.1734533],\n",
      "        [ 41.26021  ,  16.688784 ,   8.581628 ],\n",
      "        [ 40.313732 ,  16.38516  ,   4.834099 ]],\n",
      "\n",
      "       [[125.747444 ,  62.581635 ,  30.57908  ],\n",
      "        [138.45409  ,  65.41071  ,  25.594389 ],\n",
      "        [139.52551  ,  63.867344 ,  22.22449  ],\n",
      "        ...,\n",
      "        [ 37.93624  ,  15.2576685,   9.150526 ],\n",
      "        [ 38.46683  ,  16.107143 ,   7.18111  ],\n",
      "        [ 37.191307 ,  15.405593 ,   4.6198783]],\n",
      "\n",
      "       [[128.09439  ,  59.890305 ,  30.068878 ],\n",
      "        [139.57652  ,  63.076527 ,  26.971935 ],\n",
      "        [140.62245  ,  59.288265 ,  19.941324 ],\n",
      "        ...,\n",
      "        [ 38.       ,  17.464287 ,  10.642858 ],\n",
      "        [ 37.       ,  16.464287 ,   9.056115 ],\n",
      "        [ 37.28062  ,  16.744905 ,   8.28062  ]],\n",
      "\n",
      "       ...,\n",
      "\n",
      "       [[140.04079  , 176.19641  , 124.79845  ],\n",
      "        [145.13773  , 180.13774  , 124.90305  ],\n",
      "        [105.43876  , 145.02039  ,  95.73213  ],\n",
      "        ...,\n",
      "        [ 17.155684 ,  44.642868 ,   6.219457 ],\n",
      "        [ 21.721981 ,  57.35723  ,  13.193925 ],\n",
      "        [ 26.428473 ,  77.66851  ,  10.071143 ]],\n",
      "\n",
      "       [[139.13521  , 175.21431  , 123.16583  ],\n",
      "        [140.68626  , 170.25261  , 115.43883  ],\n",
      "        [ 93.729645 , 131.85721  ,  82.54343  ],\n",
      "        ...,\n",
      "        [ 16.148075 ,  50.612278 ,   0.8112688],\n",
      "        [ 28.596962 ,  63.186275 ,  18.474535 ],\n",
      "        [ 35.867294 ,  79.96445  ,  24.280416 ]],\n",
      "\n",
      "       [[149.66574  , 187.25246  , 136.35196  ],\n",
      "        [140.4107   , 168.17091  , 116.00509  ],\n",
      "        [ 95.10711  , 130.96936  ,  84.785675 ],\n",
      "        ...,\n",
      "        [ 25.905714 ,  61.18881  ,  18.66584  ],\n",
      "        [ 24.877651 ,  58.34196  ,  17.969444 ],\n",
      "        [ 31.283096 ,  72.08937  ,  10.642558 ]]], dtype=float32)>, <tf.Tensor: id=122, shape=(), dtype=int64, numpy=3>)\n",
      "(<tf.Tensor: id=123, shape=(224, 224, 3), dtype=float32, numpy=\n",
      "array([[[21.859375 , 47.56886  , 85.44041  ],\n",
      "        [21.       , 49.885143 , 84.22971  ],\n",
      "        [22.243303 , 51.243305 , 85.2433   ],\n",
      "        ...,\n",
      "        [19.29257  , 49.477318 , 86.20508  ],\n",
      "        [22.22122  , 58.153065 , 91.94099  ],\n",
      "        [21.923645 , 62.521202 , 89.61268  ]],\n",
      "\n",
      "       [[22.896305 , 48.896305 , 84.436485 ],\n",
      "        [21.729912 , 50.72991  , 83.49167  ],\n",
      "        [23.       , 52.       , 84.54018  ],\n",
      "        ...,\n",
      "        [18.157778 , 47.609684 , 89.09913  ],\n",
      "        [18.086695 , 49.581436 , 84.855965 ],\n",
      "        [24.64691  , 61.05867  , 91.09658  ]],\n",
      "\n",
      "       [[20.616072 , 49.39955  , 84.04911  ],\n",
      "        [22.       , 50.78348  , 85.43304  ],\n",
      "        [22.783482 , 51.584362 , 86.0558   ],\n",
      "        ...,\n",
      "        [11.75143  , 43.82941  , 81.73792  ],\n",
      "        [20.21999  , 50.21999  , 86.587296 ],\n",
      "        [25.55012  , 59.318005 , 91.59921  ]],\n",
      "\n",
      "       ...,\n",
      "\n",
      "       [[20.300812 , 53.30081  , 85.266205 ],\n",
      "        [21.329166 , 52.33542  , 86.       ],\n",
      "        [22.028166 , 52.080357 , 86.062965 ],\n",
      "        ...,\n",
      "        [11.2794485, 32.27945  , 75.60086  ],\n",
      "        [11.848206 , 33.151794 , 78.       ],\n",
      "        [10.91688  , 33.699177 , 78.76788  ]],\n",
      "\n",
      "       [[20.446632 , 52.94741  , 86.113815 ],\n",
      "        [21.959002 , 51.959    , 87.73743  ],\n",
      "        [21.978294 , 51.978294 , 87.86099  ],\n",
      "        ...,\n",
      "        [10.387408 , 33.18976  , 77.65017  ],\n",
      "        [11.729889 , 32.77089  , 79.77089  ],\n",
      "        [11.270111 , 33.280235 , 79.23212  ]],\n",
      "\n",
      "       [[20.616072 , 51.767857 , 85.38393  ],\n",
      "        [21.848215 , 51.848213 , 87.84821  ],\n",
      "        [21.223736 , 51.223736 , 87.22373  ],\n",
      "        ...,\n",
      "        [11.060804 , 33.98045  , 78.38222  ],\n",
      "        [10.358151 , 32.151794 , 80.43549  ],\n",
      "        [12.       , 33.       , 79.23212  ]]], dtype=float32)>, <tf.Tensor: id=124, shape=(), dtype=int64, numpy=2>)\n",
      "(<tf.Tensor: id=125, shape=(224, 224, 3), dtype=float32, numpy=\n",
      "array([[[2.5062245e+02, 2.5188010e+02, 7.0686218e+01],\n",
      "        [2.4991582e+02, 2.4891327e+02, 7.8737244e+01],\n",
      "        [2.4906633e+02, 2.4965816e+02, 6.9882660e+01],\n",
      "        ...,\n",
      "        [2.4868611e+02, 7.7178589e+01, 7.1752274e+01],\n",
      "        [2.4955360e+02, 9.0517929e+01, 9.2773079e+01],\n",
      "        [2.4850496e+02, 1.5800159e+02, 1.3881458e+02]],\n",
      "\n",
      "       [[2.4589285e+02, 2.4489287e+02, 7.5882652e+01],\n",
      "        [2.4745918e+02, 2.4654082e+02, 6.9783165e+01],\n",
      "        [2.4882909e+02, 2.4984949e+02, 6.0063774e+01],\n",
      "        ...,\n",
      "        [2.5360724e+02, 8.3729607e+01, 8.6921120e+01],\n",
      "        [2.5059439e+02, 9.5454247e+01, 9.6546036e+01],\n",
      "        [2.4856628e+02, 1.7592502e+02, 1.5386081e+02]],\n",
      "\n",
      "       [[2.4321428e+02, 2.4628317e+02, 4.0767860e+01],\n",
      "        [2.4604337e+02, 2.4652806e+02, 5.1352043e+01],\n",
      "        [2.4816582e+02, 2.4766837e+02, 5.3584187e+01],\n",
      "        ...,\n",
      "        [2.5280386e+02, 8.1395386e+01, 9.1449387e+01],\n",
      "        [2.4683160e+02, 1.0297985e+02, 1.0056390e+02],\n",
      "        [2.4755881e+02, 1.7665149e+02, 1.5748318e+02]],\n",
      "\n",
      "       ...,\n",
      "\n",
      "       [[2.5221428e+02, 2.0186479e+02, 2.1867344e+01],\n",
      "        [2.4882907e+02, 1.7944389e+02, 1.0329088e+01],\n",
      "        [2.4395154e+02, 1.4304083e+02, 2.4336882e+00],\n",
      "        ...,\n",
      "        [2.1282143e+02, 1.5846428e+02, 0.0000000e+00],\n",
      "        [2.1442093e+02, 1.6019133e+02, 6.3777059e-02],\n",
      "        [2.1610461e+02, 1.6210461e+02, 1.1046214e+00]],\n",
      "\n",
      "       [[2.4900002e+02, 1.9336993e+02, 2.2772957e+01],\n",
      "        [2.4722195e+02, 1.7100003e+02, 8.7091904e+00],\n",
      "        [2.4059695e+02, 1.3631889e+02, 5.8418846e-01],\n",
      "        ...,\n",
      "        [2.1472194e+02, 1.6167856e+02, 0.0000000e+00],\n",
      "        [2.1556888e+02, 1.6182397e+02, 3.1887987e-01],\n",
      "        [2.1757144e+02, 1.6267859e+02, 1.6785889e+00]],\n",
      "\n",
      "       [[2.4189035e+02, 1.8416333e+02, 2.1341846e+01],\n",
      "        [2.4596684e+02, 1.6587248e+02, 8.5714293e+00],\n",
      "        [2.4104080e+02, 1.3385460e+02, 4.3112415e-01],\n",
      "        ...,\n",
      "        [2.1499745e+02, 1.6206886e+02, 0.0000000e+00],\n",
      "        [2.1667857e+02, 1.6296428e+02, 1.2757599e-02],\n",
      "        [2.1799234e+02, 1.6299234e+02, 6.3787937e-02]]], dtype=float32)>, <tf.Tensor: id=126, shape=(), dtype=int64, numpy=4>)\n"
     ]
    }
   ],
   "source": [
    "image_label_ds = tf.data.Dataset.zip((image_ds, label_ds))\n",
    "\n",
    "for i in image_label_ds.take(3):\n",
    "    print(i)"
   ]
  },
  {
   "cell_type": "code",
   "execution_count": null,
   "metadata": {
    "colab": {},
    "colab_type": "code",
    "id": "cuBNY5ChNxJO"
   },
   "outputs": [],
   "source": []
  },
  {
   "cell_type": "code",
   "execution_count": null,
   "metadata": {},
   "outputs": [],
   "source": []
  }
 ],
 "metadata": {
  "colab": {
   "collapsed_sections": [],
   "name": "Untitled1.ipynb",
   "provenance": []
  },
  "kernelspec": {
   "display_name": "Python 3",
   "language": "python",
   "name": "python3"
  },
  "language_info": {
   "codemirror_mode": {
    "name": "ipython",
    "version": 3
   },
   "file_extension": ".py",
   "mimetype": "text/x-python",
   "name": "python",
   "nbconvert_exporter": "python",
   "pygments_lexer": "ipython3",
   "version": "3.6.9"
  }
 },
 "nbformat": 4,
 "nbformat_minor": 1
}
